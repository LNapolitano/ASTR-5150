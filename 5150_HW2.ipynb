{
 "cells": [
  {
   "cell_type": "raw",
   "metadata": {},
   "source": [
    "1)\n",
    "We can begin by noting the wavelengths of the J,H,K windows. Taking the cut-on and cut-off wavelenghts (50% of peak Transmission) from:\n",
    "(www.ifa.hawaii.edu/~tokunaga/filterSpecs.html)\n",
    "\n",
    "  Cut-On(μm) Cut-Off(μm)\n",
    "J   1.170   \t1.330\n",
    "H   1.490   \t1.780\n",
    "K   2.030   \t2.370\n",
    "\n",
    "Then rewriting 3727Å as 0.3727μm we can recall the equation for redshift\n",
    "    \tz=(λ_obs-λ_em)/λ_em\n",
    "we can calculate the z value for each of the values in the above table.\n",
    "  Cut-On(z) Cut-Off(z)\n",
    "J   2.139   \t2.569\n",
    "H   2.998   \t3.776\n",
    "K   4.447   \t5.360\n"
   ]
  },
  {
   "cell_type": "raw",
   "metadata": {},
   "source": [
    "2)\n",
    "Given a distance of 1 Mpc and a diameter of 30 kpc to find the angular size in radians we need only divide the diameter by the distance. Writing angular size as δ we can find.\n",
    "\n",
    "δ=d/D=30 kpc/ 10 Mpc=0.003 radians or 619\" (multiplying by 206265)\n"
   ]
  },
  {
   "cell_type": "raw",
   "metadata": {},
   "source": [
    "3)\n",
    "Given a transverse speed of 500km/s we can find the proper motion in \"/yr by:\n",
    "\n",
    "μ=0.21*v(km/s)/D(pc), plugging in v=500 km/s D=1 Mpc gives\n",
    "μ=1.05*10^{-4} \"/yr\n",
    "\n",
    "To try to observe this proper motion lets take the GAIA mission as it's objective is to measure primarily astrometric information. (www.cosmos.esa.int/web/gaia/dr2) lists the angular resolution of GAIA as being 0.4\". To find the number of years we would need to observe this galaxy for its proper motion to be detectable we can divide the resolution by our proper motion to find:\n",
    "\n",
    "0.4\"/(1.05*10^{-4} \"/yr) = 3810 years.\n"
   ]
  },
  {
   "cell_type": "raw",
   "metadata": {},
   "source": [
    "4)\n",
    "We are given that we are observing on a D=8m telescope with a f/3 prime and f/12 Nasmyth focus. To find the pixel size we want to Nyquist sample a 0.5\" FWHM we can first calculate the plate scale for each foci.\n",
    "\n",
    "As plate scale is given by 1/F and F=f#*D we can calculate the effective focal lengths to be:\n",
    "F = 24 m (prime)\n",
    "F = 96 m (Nasmyth)\n",
    "\n",
    "The plate scale in \"/μm is then given by (1/F*206265/10^{6}) converting rad to \" and m to μm\n",
    "1/F = 0.008594 \"/μm (prime)\n",
    "1/F = 0.002149 \"/μm (Nasmyth)\n",
    "\n",
    "Then to get 1 pixel per 0.5\" FWHM we can divide 0.5\" by our plate scales to find\n",
    "58.18  μm/FWHM (prime)\n",
    "232.66 μm/FWHM (Nasmyth)\n",
    "\n",
    "However, in order to Nyquist sample we want between 2 and 3 pixels per FWHM, so lets multiply our μm/FWHM values by 2.5 to get pixel sizes required to Nyquist sample:\n",
    "\n",
    "145.45 μm (prime)\n",
    "581.65 μm (Nasmyth)\n",
    "\n",
    "To then find the resulting field of view we can multiply the plate scale (\"/μm) by the pixel size (μm/pixel) by the number of pixels and then square this:\n",
    "\n",
    "0.008594 (\"/μm) * 145.45 μm/pixel * 2048 pixels = 2560\" (prime)\n",
    "0.002149 (\"/μm) * 581.65 μm/pixel * 2048 pixels = 2560\" (Nasmyth)\n",
    "\n",
    "So for both foci the resulting field of view is (2560\")^2 or 6.554*10^6 square arcseconds.\n"
   ]
  },
  {
   "cell_type": "raw",
   "metadata": {},
   "source": [
    "5)"
   ]
  },
  {
   "cell_type": "raw",
   "metadata": {},
   "source": [
    "6)"
   ]
  },
  {
   "cell_type": "raw",
   "metadata": {},
   "source": [
    "7) "
   ]
  },
  {
   "cell_type": "raw",
   "metadata": {},
   "source": [
    "8)"
   ]
  },
  {
   "cell_type": "raw",
   "metadata": {},
   "source": [
    "9)"
   ]
  },
  {
   "cell_type": "raw",
   "metadata": {},
   "source": [
    "10)"
   ]
  }
 ],
 "metadata": {
  "kernelspec": {
   "display_name": "Python 3",
   "language": "python",
   "name": "python3"
  },
  "language_info": {
   "codemirror_mode": {
    "name": "ipython",
    "version": 3
   },
   "file_extension": ".py",
   "mimetype": "text/x-python",
   "name": "python",
   "nbconvert_exporter": "python",
   "pygments_lexer": "ipython3",
   "version": "3.7.2"
  }
 },
 "nbformat": 4,
 "nbformat_minor": 2
}
